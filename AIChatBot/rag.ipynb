{
 "cells": [
  {
   "cell_type": "code",
   "execution_count": 1,
   "metadata": {},
   "outputs": [],
   "source": [
    "from secret import API_KEY\n",
    "import os\n",
    "from langchain.document_loaders import PyPDFLoader\n",
    "from langchain.embeddings.openai import OpenAIEmbeddings\n",
    "from langchain.text_splitter import CharacterTextSplitter\n",
    "from langchain.vectorstores import Chroma"
   ]
  },
  {
   "cell_type": "code",
   "execution_count": null,
   "metadata": {},
   "outputs": [],
   "source": [
    "def create_db(data_folder, persist_directory):\n",
    "    for filename in os.listdir(data_folder):\n",
    "        if filename.endswith(\".pdf\"):\n",
    "            print(f\"reading {filename}...\")\n",
    "            # Construct the full path to the PDF file\n",
    "            file_path = os.path.join(data_folder, filename)\n",
    "\n",
    "            # Load the PDF document\n",
    "            loader = PyPDFLoader(file_path)\n",
    "            raw_documents = loader.load()\n",
    "\n",
    "            # Split the text from the document into chunks\n",
    "            text_splitter = CharacterTextSplitter(chunk_size=512, chunk_overlap=64)\n",
    "            split_documents = text_splitter.split_documents(raw_documents)\n",
    "\n",
    "            db = Chroma.from_documents(\n",
    "                split_documents,\n",
    "                OpenAIEmbeddings(\n",
    "                    deployment=\"text-embedding-3-small\",\n",
    "                    chunk_size=3,\n",
    "                    timeout=60,\n",
    "                    show_progress_bar=True,\n",
    "                    retry_min_seconds=15,\n",
    "                ),\n",
    "                persist_directory=persist_directory,\n",
    "            )\n",
    "    return db"
   ]
  },
  {
   "cell_type": "code",
   "execution_count": null,
   "metadata": {},
   "outputs": [],
   "source": [
    "data_folder = \"documents/\"\n",
    "persist_directory = \"db/\"\n",
    "db = create_db()\n",
    "print(\"Saving your db as pickle file...\")\n",
    "db.persist()\n",
    "print(\"Saved!\")"
   ]
  }
 ],
 "metadata": {
  "kernelspec": {
   "display_name": "venv",
   "language": "python",
   "name": "python3"
  },
  "language_info": {
   "codemirror_mode": {
    "name": "ipython",
    "version": 3
   },
   "file_extension": ".py",
   "mimetype": "text/x-python",
   "name": "python",
   "nbconvert_exporter": "python",
   "pygments_lexer": "ipython3",
   "version": "3.12.7"
  }
 },
 "nbformat": 4,
 "nbformat_minor": 2
}
